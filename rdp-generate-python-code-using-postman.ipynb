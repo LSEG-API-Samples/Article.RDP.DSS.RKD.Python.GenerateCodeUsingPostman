{
 "cells": [
  {
   "cell_type": "markdown",
   "id": "63f7ec8b",
   "metadata": {},
   "source": [
    "# Generate code for a REST API call using Postman in a few clicks\n",
    "Have you ever had to implement a request for an API call in any programming language? If so and in case you haven't heard about this, the Postman application can convert an API request into a code snippet in a programming language in just a few clicks."
   ]
  },
  {
   "cell_type": "markdown",
   "id": "a16f1f8a",
   "metadata": {},
   "source": [
    "# 1. Refinitiv Data Platform APIs (RDP APIs)\n",
    "Python code for calling an RDP API\n",
    "## 1.1) Get Access Token\n",
    "Replace\n",
    "- **[RDP_USERNAME]** and **[RDP_PASSWORD]** with your credentials\n",
    "- **[APP_KEY]** with the Application ID\n",
    "- **[TOKEN]** with Token (this parameter for this endpoint is not necessary and can be removed but this Postman collection generates this for us automatically)"
   ]
  },
  {
   "cell_type": "code",
   "execution_count": 9,
   "id": "55602223",
   "metadata": {},
   "outputs": [
    {
     "name": "stdout",
     "output_type": "stream",
     "text": [
      "{ \"access_token\":\"eyJ0eXAiOiJhdCtqd3QiLCJhbGciOiJSUzI1NiIsImtpZCI6ImJlcGpHV0dkOW44WU9VQ1NwX3M3SXlRMmlKMFkzeWRFaHo1VDJJVlNqWTgifQ.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.on289SgCyxZKKOQq97tKqTIGfl5-bNQelYdIwlC6_DpLkp9JLCUygSIUmddX1limSftapMPo4nchRJN4pnpIuo79xh-HpSNRrRXFGg_P7hR4lh03UWrFOITP7YgKtq-Jq3OXi8yabtJM0n4kGB7xJbfs4QdPlqFkmSch_xR212aMDMkGXiOALdFK42H8mETiKHKo4Od1L5kp0EF1Z7Kp8nTAAjJ2PnIYeCcORSfT1LRX-wx-PfhcEh9UftxpQ4Y5jYb0W5ImCwoh-De1H2ZXsIrwS48YTFfvkjBNB6xrDxLCYMia9zYaFtlhsgnQ2yZ8QgCEapOlpUbRp1PP9JPQww\", \"refresh_token\":\"9a53f9e1-b325-4ef1-b23b-1143731c3af8\", \"expires_in\":\"600\" , \"scope\":\"trapi.alerts.news-headlines.crud trapi.alerts.news-stories.crud trapi.alerts.news.crud trapi.alerts.research.crud trapi.auth.cloud-credentials trapi.cfs.claimcheck.read trapi.cfs.claimcheck.write trapi.cfs.publisher.read trapi.cfs.publisher.setup.write trapi.cfs.publisher.stream.write trapi.cfs.publisher.write trapi.cfs.subscriber.read trapi.data.3pri.test.read trapi.data.esg.metadata.read trapi.data.esg.read trapi.data.esg.universe.read trapi.data.esg.views-basic.read trapi.data.esg.views-measures-full.read trapi.data.esg.views-measures-standard.read trapi.data.esg.views-measures.read trapi.data.esg.views-scores-full.read trapi.data.esg.views-scores-standard.read trapi.data.esg.views-scores.read trapi.data.est.sum trapi.data.estimates.kpi trapi.data.filings.metadata trapi.data.filings.retrieval trapi.data.filings.search trapi.data.get.data.read trapi.data.news-story-viewer.read trapi.data.news.read trapi.data.ownership.adv trapi.data.ownership.basic trapi.data.portfolios.read trapi.data.portfolios.write trapi.data.quantitative-analytics.read trapi.data.research.read trapi.data.symbology.advanced.read trapi.data.symbology.read trapi.data.trust.company-profile.read trapi.graphql.subscriber.access trapi.metadata.read trapi.msg-svcs.readership-story.crud trapi.search.explore.read trapi.search.lookup.read trapi.search.metadata.read trapi.search.read trapi.searchcore.lookup.read trapi.searchcore.metadata.read trapi.searchcore.read trapi.streaming.pricing.read trapi.user-framework.application-metadata.raplib trapi.user-framework.application-metadata.raplibadmin trapi.user-framework.mobile.crud trapi.user-framework.recently-used.crud trapi.user-framework.workspace.crud trapi.wealth.plaid\", \"token_type\":\"Bearer\" }  \n"
     ]
    }
   ],
   "source": [
    "import requests\n",
    "\n",
    "rdp_token_url = \"https://api.refinitiv.com/auth/oauth2/v1/token\"\n",
    "\n",
    "rdp_token_payload='username=[RDP_USERNAME]&password=[RDP_PASSWORD]&grant_type=password&scope=trapi&takeExclusiveSignOnControl=true&client_id=[APP_KEY]'\n",
    "rdp_token_headers = {\n",
    "  'Content-Type': 'application/x-www-form-urlencoded'\n",
    "}\n",
    "\n",
    "rdp_token_response = requests.request(\"POST\", rdp_token_url, headers=rdp_token_headers, data=rdp_token_payload)\n",
    "\n",
    "print(rdp_token_response.text)"
   ]
  },
  {
   "cell_type": "markdown",
   "id": "a2fb74f6",
   "metadata": {},
   "source": [
    "#### Print the response in JSON format"
   ]
  },
  {
   "cell_type": "code",
   "execution_count": 12,
   "id": "f64f9f44",
   "metadata": {},
   "outputs": [
    {
     "name": "stdout",
     "output_type": "stream",
     "text": [
      "{\n",
      "    \"access_token\": \"eyJ0eXAiOiJhdCtqd3QiLCJhbGciOiJSUzI1NiIsImtpZCI6ImJlcGpHV0dkOW44WU9VQ1NwX3M3SXlRMmlKMFkzeWRFaHo1VDJJVlNqWTgifQ.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.on289SgCyxZKKOQq97tKqTIGfl5-bNQelYdIwlC6_DpLkp9JLCUygSIUmddX1limSftapMPo4nchRJN4pnpIuo79xh-HpSNRrRXFGg_P7hR4lh03UWrFOITP7YgKtq-Jq3OXi8yabtJM0n4kGB7xJbfs4QdPlqFkmSch_xR212aMDMkGXiOALdFK42H8mETiKHKo4Od1L5kp0EF1Z7Kp8nTAAjJ2PnIYeCcORSfT1LRX-wx-PfhcEh9UftxpQ4Y5jYb0W5ImCwoh-De1H2ZXsIrwS48YTFfvkjBNB6xrDxLCYMia9zYaFtlhsgnQ2yZ8QgCEapOlpUbRp1PP9JPQww\",\n",
      "    \"expires_in\": \"600\",\n",
      "    \"refresh_token\": \"9a53f9e1-b325-4ef1-b23b-1143731c3af8\",\n",
      "    \"scope\": \"trapi.alerts.news-headlines.crud trapi.alerts.news-stories.crud trapi.alerts.news.crud trapi.alerts.research.crud trapi.auth.cloud-credentials trapi.cfs.claimcheck.read trapi.cfs.claimcheck.write trapi.cfs.publisher.read trapi.cfs.publisher.setup.write trapi.cfs.publisher.stream.write trapi.cfs.publisher.write trapi.cfs.subscriber.read trapi.data.3pri.test.read trapi.data.esg.metadata.read trapi.data.esg.read trapi.data.esg.universe.read trapi.data.esg.views-basic.read trapi.data.esg.views-measures-full.read trapi.data.esg.views-measures-standard.read trapi.data.esg.views-measures.read trapi.data.esg.views-scores-full.read trapi.data.esg.views-scores-standard.read trapi.data.esg.views-scores.read trapi.data.est.sum trapi.data.estimates.kpi trapi.data.filings.metadata trapi.data.filings.retrieval trapi.data.filings.search trapi.data.get.data.read trapi.data.news-story-viewer.read trapi.data.news.read trapi.data.ownership.adv trapi.data.ownership.basic trapi.data.portfolios.read trapi.data.portfolios.write trapi.data.quantitative-analytics.read trapi.data.research.read trapi.data.symbology.advanced.read trapi.data.symbology.read trapi.data.trust.company-profile.read trapi.graphql.subscriber.access trapi.metadata.read trapi.msg-svcs.readership-story.crud trapi.search.explore.read trapi.search.lookup.read trapi.search.metadata.read trapi.search.read trapi.searchcore.lookup.read trapi.searchcore.metadata.read trapi.searchcore.read trapi.streaming.pricing.read trapi.user-framework.application-metadata.raplib trapi.user-framework.application-metadata.raplibadmin trapi.user-framework.mobile.crud trapi.user-framework.recently-used.crud trapi.user-framework.workspace.crud trapi.wealth.plaid\",\n",
      "    \"token_type\": \"Bearer\"\n",
      "}\n"
     ]
    }
   ],
   "source": [
    "import json\n",
    "rdp_token_response_json = json.loads(rdp_token_response.text)\n",
    "print(json.dumps(rdp_token_response_json, indent=4, sort_keys=True))"
   ]
  },
  {
   "cell_type": "markdown",
   "id": "d112fa2b",
   "metadata": {},
   "source": [
    "## 1.2) Symbology - From Identifier to Identifier\n",
    "Replace **[TOKEN]** with Token from the previous step"
   ]
  },
  {
   "cell_type": "code",
   "execution_count": 14,
   "id": "52febdc9",
   "metadata": {},
   "outputs": [
    {
     "name": "stdout",
     "output_type": "stream",
     "text": [
      "{\"data\":[{\"input\":[{\"value\":\"US01F0313464\",\"identifierType\":\"Isin\"}],\"output\":[{\"value\":\"35602439457\",\"identifierType\":\"PermId\",\"objectType\":\"MbsTbaInstrument\"}]}],\"requestId\":\"62084d90-4c63-4d60-b98f-7a105d1e42f7\",\"effectiveAt\":\"2022-05-12T17:31:52.384Z\",\"messages\":[]}\n"
     ]
    }
   ],
   "source": [
    "import requests\n",
    "import json\n",
    "\n",
    "rdp_sym_url = \"https://api.refinitiv.com/discovery/symbology/v1/lookup\"\n",
    "\n",
    "rdp_sym_payload = json.dumps({\n",
    "  \"from\": [\n",
    "    {\n",
    "      \"identifierTypes\": [\n",
    "        \"Isin\"\n",
    "      ],\n",
    "      \"values\": [\n",
    "        \"US01F0313464\"\n",
    "      ]\n",
    "    }\n",
    "  ],\n",
    "  \"to\": [\n",
    "    {\n",
    "      \"identifierTypes\": [\n",
    "        \"PermId\"\n",
    "      ]\n",
    "    }\n",
    "  ],\n",
    "  \"type\": \"strict\"\n",
    "})\n",
    "rdp_sym_headers = {\n",
    "  'Content-Type': 'application/json',\n",
    "  'Accept': 'application/json',\n",
    "  'Authorization': 'Bearer [TOKEN]'\n",
    "}\n",
    "\n",
    "rdp_sym_response = requests.request(\"POST\", rdp_sym_url, headers=rdp_sym_headers, data=rdp_sym_payload)\n",
    "\n",
    "print(rdp_sym_response.text)"
   ]
  },
  {
   "cell_type": "markdown",
   "id": "2741a78d",
   "metadata": {},
   "source": [
    "#### Print the response in JSON format"
   ]
  },
  {
   "cell_type": "code",
   "execution_count": 15,
   "id": "5c5b9373",
   "metadata": {},
   "outputs": [
    {
     "name": "stdout",
     "output_type": "stream",
     "text": [
      "{\n",
      "    \"data\": [\n",
      "        {\n",
      "            \"input\": [\n",
      "                {\n",
      "                    \"identifierType\": \"Isin\",\n",
      "                    \"value\": \"US01F0313464\"\n",
      "                }\n",
      "            ],\n",
      "            \"output\": [\n",
      "                {\n",
      "                    \"identifierType\": \"PermId\",\n",
      "                    \"objectType\": \"MbsTbaInstrument\",\n",
      "                    \"value\": \"35602439457\"\n",
      "                }\n",
      "            ]\n",
      "        }\n",
      "    ],\n",
      "    \"effectiveAt\": \"2022-05-12T17:31:52.384Z\",\n",
      "    \"messages\": [],\n",
      "    \"requestId\": \"62084d90-4c63-4d60-b98f-7a105d1e42f7\"\n",
      "}\n"
     ]
    }
   ],
   "source": [
    "rdp_sym_response_json = json.loads(rdp_sym_response.text)\n",
    "print(json.dumps(rdp_sym_response_json, indent=4, sort_keys=True))"
   ]
  },
  {
   "cell_type": "markdown",
   "id": "0ac3af3f",
   "metadata": {},
   "source": [
    "# Reference\n",
    "- [Refinitiv Data Platform APIs](https://developers.refinitiv.com/en/api-catalog/refinitiv-data-platform/refinitiv-data-platform-apis)\n",
    " - [Quickstart guide for Refinitiv Data Platform](https://developers.refinitiv.com/en/api-catalog/refinitiv-data-platform/refinitiv-data-platform-apis/quick-start)\n",
    " - [RDP Postman Starter Collection and Tutorial Samples](https://developers.refinitiv.com/en/api-catalog/refinitiv-data-platform/refinitiv-data-platform-apis/download)\n",
    " - [RDP Postman Tutorials](https://developers.refinitiv.com/en/api-catalog/refinitiv-data-platform/refinitiv-data-platform-apis/tutorials)\n",
    " - [RDP API Q&A Forum - RDP API and I would like to use it through Postman](https://community.developers.refinitiv.com/questions/88325/rdp-api-and-i-would-like-to-use-it-through-postman.html)\n",
    "- [Postman](https://www.postman.com/)\n",
    " - [Generate Code Snippets](https://learning.postman.com/docs/sending-requests/generate-code-snippets/)\n",
    "\n",
    "# Thank you"
   ]
  }
 ],
 "metadata": {
  "kernelspec": {
   "display_name": "Python 3 (ipykernel)",
   "language": "python",
   "name": "python3"
  },
  "language_info": {
   "codemirror_mode": {
    "name": "ipython",
    "version": 3
   },
   "file_extension": ".py",
   "mimetype": "text/x-python",
   "name": "python",
   "nbconvert_exporter": "python",
   "pygments_lexer": "ipython3",
   "version": "3.9.12"
  }
 },
 "nbformat": 4,
 "nbformat_minor": 5
}
